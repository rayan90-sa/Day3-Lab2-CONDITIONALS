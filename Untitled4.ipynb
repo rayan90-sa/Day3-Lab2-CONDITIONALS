{
 "cells": [
  {
   "cell_type": "code",
   "execution_count": 1,
   "id": "8e4451f6",
   "metadata": {},
   "outputs": [
    {
     "name": "stdout",
     "output_type": "stream",
     "text": [
      "I recommended it . It is good\n"
     ]
    }
   ],
   "source": [
    "movie_boy =3 \n",
    "x  = 5 \n",
    "y = 72.65 \n",
    "if movie_boy >= 4 and y > 80:\n",
    "  print(\"Highly recommended\")\n",
    "elif movie_boy >= 3 and y > 70:\n",
    "  print (\"I recommended it . It is good\")\n",
    "elif movie_boy >= 2 and y > 60:\n",
    "   print (\"You should check it out!\")\n",
    "elif movie_boy >= 2 and y > 50:\n",
    "  print (\"Don't watch it. It is a waste of time\")\n",
    "\n",
    "    "
   ]
  },
  {
   "cell_type": "code",
   "execution_count": null,
   "id": "a1a2072c",
   "metadata": {},
   "outputs": [],
   "source": []
  }
 ],
 "metadata": {
  "kernelspec": {
   "display_name": "Python 3 (ipykernel)",
   "language": "python",
   "name": "python3"
  },
  "language_info": {
   "codemirror_mode": {
    "name": "ipython",
    "version": 3
   },
   "file_extension": ".py",
   "mimetype": "text/x-python",
   "name": "python",
   "nbconvert_exporter": "python",
   "pygments_lexer": "ipython3",
   "version": "3.9.12"
  }
 },
 "nbformat": 4,
 "nbformat_minor": 5
}
